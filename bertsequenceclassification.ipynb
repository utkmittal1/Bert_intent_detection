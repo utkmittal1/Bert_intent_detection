{
  "nbformat": 4,
  "nbformat_minor": 0,
  "metadata": {
    "colab": {
      "name": "bertsequenceclassification.ipynb",
      "provenance": [],
      "collapsed_sections": [],
      "mount_file_id": "11exB4O8taR5KUTb3p4MN-WqcTreNJ4fX",
      "authorship_tag": "ABX9TyOanDsfosZKt6J7GE1hHmA7",
      "include_colab_link": true
    },
    "kernelspec": {
      "name": "python3",
      "display_name": "Python 3"
    },
    "accelerator": "GPU",
    "widgets": {
      "application/vnd.jupyter.widget-state+json": {
        "b937abc042af4e77b6d7f622e870050f": {
          "model_module": "@jupyter-widgets/controls",
          "model_name": "HBoxModel",
          "state": {
            "_view_name": "HBoxView",
            "_dom_classes": [],
            "_model_name": "HBoxModel",
            "_view_module": "@jupyter-widgets/controls",
            "_model_module_version": "1.5.0",
            "_view_count": null,
            "_view_module_version": "1.5.0",
            "box_style": "",
            "layout": "IPY_MODEL_a7884722764c477d87efd5fe8362cd30",
            "_model_module": "@jupyter-widgets/controls",
            "children": [
              "IPY_MODEL_038aedd40b1648b69bbd5319713610bd",
              "IPY_MODEL_9897dbe1ad334fa299e3bff373005cb9"
            ]
          }
        },
        "a7884722764c477d87efd5fe8362cd30": {
          "model_module": "@jupyter-widgets/base",
          "model_name": "LayoutModel",
          "state": {
            "_view_name": "LayoutView",
            "grid_template_rows": null,
            "right": null,
            "justify_content": null,
            "_view_module": "@jupyter-widgets/base",
            "overflow": null,
            "_model_module_version": "1.2.0",
            "_view_count": null,
            "flex_flow": null,
            "width": null,
            "min_width": null,
            "border": null,
            "align_items": null,
            "bottom": null,
            "_model_module": "@jupyter-widgets/base",
            "top": null,
            "grid_column": null,
            "overflow_y": null,
            "overflow_x": null,
            "grid_auto_flow": null,
            "grid_area": null,
            "grid_template_columns": null,
            "flex": null,
            "_model_name": "LayoutModel",
            "justify_items": null,
            "grid_row": null,
            "max_height": null,
            "align_content": null,
            "visibility": null,
            "align_self": null,
            "height": null,
            "min_height": null,
            "padding": null,
            "grid_auto_rows": null,
            "grid_gap": null,
            "max_width": null,
            "order": null,
            "_view_module_version": "1.2.0",
            "grid_template_areas": null,
            "object_position": null,
            "object_fit": null,
            "grid_auto_columns": null,
            "margin": null,
            "display": null,
            "left": null
          }
        },
        "038aedd40b1648b69bbd5319713610bd": {
          "model_module": "@jupyter-widgets/controls",
          "model_name": "IntProgressModel",
          "state": {
            "_view_name": "ProgressView",
            "style": "IPY_MODEL_0564ece614144807b8d12979dc97b7ff",
            "_dom_classes": [],
            "description": "Downloading",
            "_model_name": "IntProgressModel",
            "bar_style": "success",
            "max": 231508,
            "_view_module": "@jupyter-widgets/controls",
            "_model_module_version": "1.5.0",
            "value": 231508,
            "_view_count": null,
            "_view_module_version": "1.5.0",
            "orientation": "horizontal",
            "min": 0,
            "description_tooltip": null,
            "_model_module": "@jupyter-widgets/controls",
            "layout": "IPY_MODEL_b6c67fc7cced42adb447534f2030aa15"
          }
        },
        "9897dbe1ad334fa299e3bff373005cb9": {
          "model_module": "@jupyter-widgets/controls",
          "model_name": "HTMLModel",
          "state": {
            "_view_name": "HTMLView",
            "style": "IPY_MODEL_5291afdd35884f83b30414d2b5024068",
            "_dom_classes": [],
            "description": "",
            "_model_name": "HTMLModel",
            "placeholder": "​",
            "_view_module": "@jupyter-widgets/controls",
            "_model_module_version": "1.5.0",
            "value": "100% 232k/232k [00:00&lt;00:00, 890kB/s]",
            "_view_count": null,
            "_view_module_version": "1.5.0",
            "description_tooltip": null,
            "_model_module": "@jupyter-widgets/controls",
            "layout": "IPY_MODEL_cc18216fe6754ade86d944f6d4139d62"
          }
        },
        "0564ece614144807b8d12979dc97b7ff": {
          "model_module": "@jupyter-widgets/controls",
          "model_name": "ProgressStyleModel",
          "state": {
            "_view_name": "StyleView",
            "_model_name": "ProgressStyleModel",
            "description_width": "initial",
            "_view_module": "@jupyter-widgets/base",
            "_model_module_version": "1.5.0",
            "_view_count": null,
            "_view_module_version": "1.2.0",
            "bar_color": null,
            "_model_module": "@jupyter-widgets/controls"
          }
        },
        "b6c67fc7cced42adb447534f2030aa15": {
          "model_module": "@jupyter-widgets/base",
          "model_name": "LayoutModel",
          "state": {
            "_view_name": "LayoutView",
            "grid_template_rows": null,
            "right": null,
            "justify_content": null,
            "_view_module": "@jupyter-widgets/base",
            "overflow": null,
            "_model_module_version": "1.2.0",
            "_view_count": null,
            "flex_flow": null,
            "width": null,
            "min_width": null,
            "border": null,
            "align_items": null,
            "bottom": null,
            "_model_module": "@jupyter-widgets/base",
            "top": null,
            "grid_column": null,
            "overflow_y": null,
            "overflow_x": null,
            "grid_auto_flow": null,
            "grid_area": null,
            "grid_template_columns": null,
            "flex": null,
            "_model_name": "LayoutModel",
            "justify_items": null,
            "grid_row": null,
            "max_height": null,
            "align_content": null,
            "visibility": null,
            "align_self": null,
            "height": null,
            "min_height": null,
            "padding": null,
            "grid_auto_rows": null,
            "grid_gap": null,
            "max_width": null,
            "order": null,
            "_view_module_version": "1.2.0",
            "grid_template_areas": null,
            "object_position": null,
            "object_fit": null,
            "grid_auto_columns": null,
            "margin": null,
            "display": null,
            "left": null
          }
        },
        "5291afdd35884f83b30414d2b5024068": {
          "model_module": "@jupyter-widgets/controls",
          "model_name": "DescriptionStyleModel",
          "state": {
            "_view_name": "StyleView",
            "_model_name": "DescriptionStyleModel",
            "description_width": "",
            "_view_module": "@jupyter-widgets/base",
            "_model_module_version": "1.5.0",
            "_view_count": null,
            "_view_module_version": "1.2.0",
            "_model_module": "@jupyter-widgets/controls"
          }
        },
        "cc18216fe6754ade86d944f6d4139d62": {
          "model_module": "@jupyter-widgets/base",
          "model_name": "LayoutModel",
          "state": {
            "_view_name": "LayoutView",
            "grid_template_rows": null,
            "right": null,
            "justify_content": null,
            "_view_module": "@jupyter-widgets/base",
            "overflow": null,
            "_model_module_version": "1.2.0",
            "_view_count": null,
            "flex_flow": null,
            "width": null,
            "min_width": null,
            "border": null,
            "align_items": null,
            "bottom": null,
            "_model_module": "@jupyter-widgets/base",
            "top": null,
            "grid_column": null,
            "overflow_y": null,
            "overflow_x": null,
            "grid_auto_flow": null,
            "grid_area": null,
            "grid_template_columns": null,
            "flex": null,
            "_model_name": "LayoutModel",
            "justify_items": null,
            "grid_row": null,
            "max_height": null,
            "align_content": null,
            "visibility": null,
            "align_self": null,
            "height": null,
            "min_height": null,
            "padding": null,
            "grid_auto_rows": null,
            "grid_gap": null,
            "max_width": null,
            "order": null,
            "_view_module_version": "1.2.0",
            "grid_template_areas": null,
            "object_position": null,
            "object_fit": null,
            "grid_auto_columns": null,
            "margin": null,
            "display": null,
            "left": null
          }
        },
        "2386a7ecbffe448ba95da5782b386486": {
          "model_module": "@jupyter-widgets/controls",
          "model_name": "HBoxModel",
          "state": {
            "_view_name": "HBoxView",
            "_dom_classes": [],
            "_model_name": "HBoxModel",
            "_view_module": "@jupyter-widgets/controls",
            "_model_module_version": "1.5.0",
            "_view_count": null,
            "_view_module_version": "1.5.0",
            "box_style": "",
            "layout": "IPY_MODEL_3e494060c8594ec38b3b4959fd850cc2",
            "_model_module": "@jupyter-widgets/controls",
            "children": [
              "IPY_MODEL_38e71fca5aac4984b136a41218b25137",
              "IPY_MODEL_ff946d61364f4740bd0b3b10891027e2"
            ]
          }
        },
        "3e494060c8594ec38b3b4959fd850cc2": {
          "model_module": "@jupyter-widgets/base",
          "model_name": "LayoutModel",
          "state": {
            "_view_name": "LayoutView",
            "grid_template_rows": null,
            "right": null,
            "justify_content": null,
            "_view_module": "@jupyter-widgets/base",
            "overflow": null,
            "_model_module_version": "1.2.0",
            "_view_count": null,
            "flex_flow": null,
            "width": null,
            "min_width": null,
            "border": null,
            "align_items": null,
            "bottom": null,
            "_model_module": "@jupyter-widgets/base",
            "top": null,
            "grid_column": null,
            "overflow_y": null,
            "overflow_x": null,
            "grid_auto_flow": null,
            "grid_area": null,
            "grid_template_columns": null,
            "flex": null,
            "_model_name": "LayoutModel",
            "justify_items": null,
            "grid_row": null,
            "max_height": null,
            "align_content": null,
            "visibility": null,
            "align_self": null,
            "height": null,
            "min_height": null,
            "padding": null,
            "grid_auto_rows": null,
            "grid_gap": null,
            "max_width": null,
            "order": null,
            "_view_module_version": "1.2.0",
            "grid_template_areas": null,
            "object_position": null,
            "object_fit": null,
            "grid_auto_columns": null,
            "margin": null,
            "display": null,
            "left": null
          }
        },
        "38e71fca5aac4984b136a41218b25137": {
          "model_module": "@jupyter-widgets/controls",
          "model_name": "IntProgressModel",
          "state": {
            "_view_name": "ProgressView",
            "style": "IPY_MODEL_51dfd9591b4a4ffc912377356c7f9bca",
            "_dom_classes": [],
            "description": "Downloading",
            "_model_name": "IntProgressModel",
            "bar_style": "success",
            "max": 361,
            "_view_module": "@jupyter-widgets/controls",
            "_model_module_version": "1.5.0",
            "value": 361,
            "_view_count": null,
            "_view_module_version": "1.5.0",
            "orientation": "horizontal",
            "min": 0,
            "description_tooltip": null,
            "_model_module": "@jupyter-widgets/controls",
            "layout": "IPY_MODEL_4236c83ee2e54ee5bbd40e26f8413392"
          }
        },
        "ff946d61364f4740bd0b3b10891027e2": {
          "model_module": "@jupyter-widgets/controls",
          "model_name": "HTMLModel",
          "state": {
            "_view_name": "HTMLView",
            "style": "IPY_MODEL_e3ff57c907424deab4ab42b1bfcd0d9e",
            "_dom_classes": [],
            "description": "",
            "_model_name": "HTMLModel",
            "placeholder": "​",
            "_view_module": "@jupyter-widgets/controls",
            "_model_module_version": "1.5.0",
            "value": "100% 361/361 [00:00&lt;00:00, 11.5kB/s]",
            "_view_count": null,
            "_view_module_version": "1.5.0",
            "description_tooltip": null,
            "_model_module": "@jupyter-widgets/controls",
            "layout": "IPY_MODEL_a3fa4193db0c43c6804790ee9b1f51d4"
          }
        },
        "51dfd9591b4a4ffc912377356c7f9bca": {
          "model_module": "@jupyter-widgets/controls",
          "model_name": "ProgressStyleModel",
          "state": {
            "_view_name": "StyleView",
            "_model_name": "ProgressStyleModel",
            "description_width": "initial",
            "_view_module": "@jupyter-widgets/base",
            "_model_module_version": "1.5.0",
            "_view_count": null,
            "_view_module_version": "1.2.0",
            "bar_color": null,
            "_model_module": "@jupyter-widgets/controls"
          }
        },
        "4236c83ee2e54ee5bbd40e26f8413392": {
          "model_module": "@jupyter-widgets/base",
          "model_name": "LayoutModel",
          "state": {
            "_view_name": "LayoutView",
            "grid_template_rows": null,
            "right": null,
            "justify_content": null,
            "_view_module": "@jupyter-widgets/base",
            "overflow": null,
            "_model_module_version": "1.2.0",
            "_view_count": null,
            "flex_flow": null,
            "width": null,
            "min_width": null,
            "border": null,
            "align_items": null,
            "bottom": null,
            "_model_module": "@jupyter-widgets/base",
            "top": null,
            "grid_column": null,
            "overflow_y": null,
            "overflow_x": null,
            "grid_auto_flow": null,
            "grid_area": null,
            "grid_template_columns": null,
            "flex": null,
            "_model_name": "LayoutModel",
            "justify_items": null,
            "grid_row": null,
            "max_height": null,
            "align_content": null,
            "visibility": null,
            "align_self": null,
            "height": null,
            "min_height": null,
            "padding": null,
            "grid_auto_rows": null,
            "grid_gap": null,
            "max_width": null,
            "order": null,
            "_view_module_version": "1.2.0",
            "grid_template_areas": null,
            "object_position": null,
            "object_fit": null,
            "grid_auto_columns": null,
            "margin": null,
            "display": null,
            "left": null
          }
        },
        "e3ff57c907424deab4ab42b1bfcd0d9e": {
          "model_module": "@jupyter-widgets/controls",
          "model_name": "DescriptionStyleModel",
          "state": {
            "_view_name": "StyleView",
            "_model_name": "DescriptionStyleModel",
            "description_width": "",
            "_view_module": "@jupyter-widgets/base",
            "_model_module_version": "1.5.0",
            "_view_count": null,
            "_view_module_version": "1.2.0",
            "_model_module": "@jupyter-widgets/controls"
          }
        },
        "a3fa4193db0c43c6804790ee9b1f51d4": {
          "model_module": "@jupyter-widgets/base",
          "model_name": "LayoutModel",
          "state": {
            "_view_name": "LayoutView",
            "grid_template_rows": null,
            "right": null,
            "justify_content": null,
            "_view_module": "@jupyter-widgets/base",
            "overflow": null,
            "_model_module_version": "1.2.0",
            "_view_count": null,
            "flex_flow": null,
            "width": null,
            "min_width": null,
            "border": null,
            "align_items": null,
            "bottom": null,
            "_model_module": "@jupyter-widgets/base",
            "top": null,
            "grid_column": null,
            "overflow_y": null,
            "overflow_x": null,
            "grid_auto_flow": null,
            "grid_area": null,
            "grid_template_columns": null,
            "flex": null,
            "_model_name": "LayoutModel",
            "justify_items": null,
            "grid_row": null,
            "max_height": null,
            "align_content": null,
            "visibility": null,
            "align_self": null,
            "height": null,
            "min_height": null,
            "padding": null,
            "grid_auto_rows": null,
            "grid_gap": null,
            "max_width": null,
            "order": null,
            "_view_module_version": "1.2.0",
            "grid_template_areas": null,
            "object_position": null,
            "object_fit": null,
            "grid_auto_columns": null,
            "margin": null,
            "display": null,
            "left": null
          }
        },
        "81999ad72c144de2ac64190c36c6c8ce": {
          "model_module": "@jupyter-widgets/controls",
          "model_name": "HBoxModel",
          "state": {
            "_view_name": "HBoxView",
            "_dom_classes": [],
            "_model_name": "HBoxModel",
            "_view_module": "@jupyter-widgets/controls",
            "_model_module_version": "1.5.0",
            "_view_count": null,
            "_view_module_version": "1.5.0",
            "box_style": "",
            "layout": "IPY_MODEL_a6d6cc834109404cbc3dc4503c868831",
            "_model_module": "@jupyter-widgets/controls",
            "children": [
              "IPY_MODEL_d90d6f0f4d6a4c80940cb283fabc2e6c",
              "IPY_MODEL_7148c03821364320ba780ad75a8a0e59"
            ]
          }
        },
        "a6d6cc834109404cbc3dc4503c868831": {
          "model_module": "@jupyter-widgets/base",
          "model_name": "LayoutModel",
          "state": {
            "_view_name": "LayoutView",
            "grid_template_rows": null,
            "right": null,
            "justify_content": null,
            "_view_module": "@jupyter-widgets/base",
            "overflow": null,
            "_model_module_version": "1.2.0",
            "_view_count": null,
            "flex_flow": null,
            "width": null,
            "min_width": null,
            "border": null,
            "align_items": null,
            "bottom": null,
            "_model_module": "@jupyter-widgets/base",
            "top": null,
            "grid_column": null,
            "overflow_y": null,
            "overflow_x": null,
            "grid_auto_flow": null,
            "grid_area": null,
            "grid_template_columns": null,
            "flex": null,
            "_model_name": "LayoutModel",
            "justify_items": null,
            "grid_row": null,
            "max_height": null,
            "align_content": null,
            "visibility": null,
            "align_self": null,
            "height": null,
            "min_height": null,
            "padding": null,
            "grid_auto_rows": null,
            "grid_gap": null,
            "max_width": null,
            "order": null,
            "_view_module_version": "1.2.0",
            "grid_template_areas": null,
            "object_position": null,
            "object_fit": null,
            "grid_auto_columns": null,
            "margin": null,
            "display": null,
            "left": null
          }
        },
        "d90d6f0f4d6a4c80940cb283fabc2e6c": {
          "model_module": "@jupyter-widgets/controls",
          "model_name": "IntProgressModel",
          "state": {
            "_view_name": "ProgressView",
            "style": "IPY_MODEL_c1718e5ad68843dbb92a88146e4594f8",
            "_dom_classes": [],
            "description": "Downloading",
            "_model_name": "IntProgressModel",
            "bar_style": "success",
            "max": 440473133,
            "_view_module": "@jupyter-widgets/controls",
            "_model_module_version": "1.5.0",
            "value": 440473133,
            "_view_count": null,
            "_view_module_version": "1.5.0",
            "orientation": "horizontal",
            "min": 0,
            "description_tooltip": null,
            "_model_module": "@jupyter-widgets/controls",
            "layout": "IPY_MODEL_fb91dfba5f5d4d6e9dab1a12315540de"
          }
        },
        "7148c03821364320ba780ad75a8a0e59": {
          "model_module": "@jupyter-widgets/controls",
          "model_name": "HTMLModel",
          "state": {
            "_view_name": "HTMLView",
            "style": "IPY_MODEL_15b2ccd31e0644a6b378b29a935d4e85",
            "_dom_classes": [],
            "description": "",
            "_model_name": "HTMLModel",
            "placeholder": "​",
            "_view_module": "@jupyter-widgets/controls",
            "_model_module_version": "1.5.0",
            "value": "100% 440M/440M [00:15&lt;00:00, 29.2MB/s]",
            "_view_count": null,
            "_view_module_version": "1.5.0",
            "description_tooltip": null,
            "_model_module": "@jupyter-widgets/controls",
            "layout": "IPY_MODEL_8fb27c5c27d045efb46ddba25379f56a"
          }
        },
        "c1718e5ad68843dbb92a88146e4594f8": {
          "model_module": "@jupyter-widgets/controls",
          "model_name": "ProgressStyleModel",
          "state": {
            "_view_name": "StyleView",
            "_model_name": "ProgressStyleModel",
            "description_width": "initial",
            "_view_module": "@jupyter-widgets/base",
            "_model_module_version": "1.5.0",
            "_view_count": null,
            "_view_module_version": "1.2.0",
            "bar_color": null,
            "_model_module": "@jupyter-widgets/controls"
          }
        },
        "fb91dfba5f5d4d6e9dab1a12315540de": {
          "model_module": "@jupyter-widgets/base",
          "model_name": "LayoutModel",
          "state": {
            "_view_name": "LayoutView",
            "grid_template_rows": null,
            "right": null,
            "justify_content": null,
            "_view_module": "@jupyter-widgets/base",
            "overflow": null,
            "_model_module_version": "1.2.0",
            "_view_count": null,
            "flex_flow": null,
            "width": null,
            "min_width": null,
            "border": null,
            "align_items": null,
            "bottom": null,
            "_model_module": "@jupyter-widgets/base",
            "top": null,
            "grid_column": null,
            "overflow_y": null,
            "overflow_x": null,
            "grid_auto_flow": null,
            "grid_area": null,
            "grid_template_columns": null,
            "flex": null,
            "_model_name": "LayoutModel",
            "justify_items": null,
            "grid_row": null,
            "max_height": null,
            "align_content": null,
            "visibility": null,
            "align_self": null,
            "height": null,
            "min_height": null,
            "padding": null,
            "grid_auto_rows": null,
            "grid_gap": null,
            "max_width": null,
            "order": null,
            "_view_module_version": "1.2.0",
            "grid_template_areas": null,
            "object_position": null,
            "object_fit": null,
            "grid_auto_columns": null,
            "margin": null,
            "display": null,
            "left": null
          }
        },
        "15b2ccd31e0644a6b378b29a935d4e85": {
          "model_module": "@jupyter-widgets/controls",
          "model_name": "DescriptionStyleModel",
          "state": {
            "_view_name": "StyleView",
            "_model_name": "DescriptionStyleModel",
            "description_width": "",
            "_view_module": "@jupyter-widgets/base",
            "_model_module_version": "1.5.0",
            "_view_count": null,
            "_view_module_version": "1.2.0",
            "_model_module": "@jupyter-widgets/controls"
          }
        },
        "8fb27c5c27d045efb46ddba25379f56a": {
          "model_module": "@jupyter-widgets/base",
          "model_name": "LayoutModel",
          "state": {
            "_view_name": "LayoutView",
            "grid_template_rows": null,
            "right": null,
            "justify_content": null,
            "_view_module": "@jupyter-widgets/base",
            "overflow": null,
            "_model_module_version": "1.2.0",
            "_view_count": null,
            "flex_flow": null,
            "width": null,
            "min_width": null,
            "border": null,
            "align_items": null,
            "bottom": null,
            "_model_module": "@jupyter-widgets/base",
            "top": null,
            "grid_column": null,
            "overflow_y": null,
            "overflow_x": null,
            "grid_auto_flow": null,
            "grid_area": null,
            "grid_template_columns": null,
            "flex": null,
            "_model_name": "LayoutModel",
            "justify_items": null,
            "grid_row": null,
            "max_height": null,
            "align_content": null,
            "visibility": null,
            "align_self": null,
            "height": null,
            "min_height": null,
            "padding": null,
            "grid_auto_rows": null,
            "grid_gap": null,
            "max_width": null,
            "order": null,
            "_view_module_version": "1.2.0",
            "grid_template_areas": null,
            "object_position": null,
            "object_fit": null,
            "grid_auto_columns": null,
            "margin": null,
            "display": null,
            "left": null
          }
        }
      }
    }
  },
  "cells": [
    {
      "cell_type": "markdown",
      "metadata": {
        "id": "view-in-github",
        "colab_type": "text"
      },
      "source": [
        "<a href=\"https://colab.research.google.com/github/utkmittal1/Bert_intent_detection/blob/master/bertsequenceclassification.ipynb\" target=\"_parent\"><img src=\"https://colab.research.google.com/assets/colab-badge.svg\" alt=\"Open In Colab\"/></a>"
      ]
    },
    {
      "cell_type": "code",
      "metadata": {
        "id": "C5HunVF-fc6R",
        "colab_type": "code",
        "outputId": "a0f8cccb-1008-4f0b-d8dc-978340b1ad95",
        "colab": {
          "base_uri": "https://localhost:8080/",
          "height": 87
        }
      },
      "source": [
        "%cd  /content/drive/My Drive/bert_model\n",
        "!ls"
      ],
      "execution_count": 2,
      "outputs": [
        {
          "output_type": "stream",
          "text": [
            "/content/drive/My Drive/bert_model\n",
            "bert_classifier.csv\t    dataset_reader.py  saved_model\n",
            "data.csv\t\t    model.py\t       test.py\n",
            "dataset_reader_original.py  __pycache__        train.py\n"
          ],
          "name": "stdout"
        }
      ]
    },
    {
      "cell_type": "code",
      "metadata": {
        "id": "cvt7JEj7gd6L",
        "colab_type": "code",
        "outputId": "f1210475-a9b6-4a2c-fd44-0a123b512371",
        "colab": {
          "base_uri": "https://localhost:8080/",
          "height": 694
        }
      },
      "source": [
        "!pip install transformers"
      ],
      "execution_count": 3,
      "outputs": [
        {
          "output_type": "stream",
          "text": [
            "Collecting transformers\n",
            "\u001b[?25l  Downloading https://files.pythonhosted.org/packages/13/33/ffb67897a6985a7b7d8e5e7878c3628678f553634bd3836404fef06ef19b/transformers-2.5.1-py3-none-any.whl (499kB)\n",
            "\r\u001b[K     |▋                               | 10kB 10.2MB/s eta 0:00:01\r\u001b[K     |█▎                              | 20kB 4.2MB/s eta 0:00:01\r\u001b[K     |██                              | 30kB 6.0MB/s eta 0:00:01\r\u001b[K     |██▋                             | 40kB 4.7MB/s eta 0:00:01\r\u001b[K     |███▎                            | 51kB 5.8MB/s eta 0:00:01\r\u001b[K     |████                            | 61kB 6.8MB/s eta 0:00:01\r\u001b[K     |████▋                           | 71kB 7.8MB/s eta 0:00:01\r\u001b[K     |█████▎                          | 81kB 8.8MB/s eta 0:00:01\r\u001b[K     |██████                          | 92kB 7.3MB/s eta 0:00:01\r\u001b[K     |██████▋                         | 102kB 8.0MB/s eta 0:00:01\r\u001b[K     |███████▏                        | 112kB 8.0MB/s eta 0:00:01\r\u001b[K     |███████▉                        | 122kB 8.0MB/s eta 0:00:01\r\u001b[K     |████████▌                       | 133kB 8.0MB/s eta 0:00:01\r\u001b[K     |█████████▏                      | 143kB 8.0MB/s eta 0:00:01\r\u001b[K     |█████████▉                      | 153kB 8.0MB/s eta 0:00:01\r\u001b[K     |██████████▌                     | 163kB 8.0MB/s eta 0:00:01\r\u001b[K     |███████████▏                    | 174kB 8.0MB/s eta 0:00:01\r\u001b[K     |███████████▉                    | 184kB 8.0MB/s eta 0:00:01\r\u001b[K     |████████████▌                   | 194kB 8.0MB/s eta 0:00:01\r\u001b[K     |█████████████▏                  | 204kB 8.0MB/s eta 0:00:01\r\u001b[K     |█████████████▉                  | 215kB 8.0MB/s eta 0:00:01\r\u001b[K     |██████████████▍                 | 225kB 8.0MB/s eta 0:00:01\r\u001b[K     |███████████████                 | 235kB 8.0MB/s eta 0:00:01\r\u001b[K     |███████████████▊                | 245kB 8.0MB/s eta 0:00:01\r\u001b[K     |████████████████▍               | 256kB 8.0MB/s eta 0:00:01\r\u001b[K     |█████████████████               | 266kB 8.0MB/s eta 0:00:01\r\u001b[K     |█████████████████▊              | 276kB 8.0MB/s eta 0:00:01\r\u001b[K     |██████████████████▍             | 286kB 8.0MB/s eta 0:00:01\r\u001b[K     |███████████████████             | 296kB 8.0MB/s eta 0:00:01\r\u001b[K     |███████████████████▊            | 307kB 8.0MB/s eta 0:00:01\r\u001b[K     |████████████████████▍           | 317kB 8.0MB/s eta 0:00:01\r\u001b[K     |█████████████████████           | 327kB 8.0MB/s eta 0:00:01\r\u001b[K     |█████████████████████▋          | 337kB 8.0MB/s eta 0:00:01\r\u001b[K     |██████████████████████▎         | 348kB 8.0MB/s eta 0:00:01\r\u001b[K     |███████████████████████         | 358kB 8.0MB/s eta 0:00:01\r\u001b[K     |███████████████████████▋        | 368kB 8.0MB/s eta 0:00:01\r\u001b[K     |████████████████████████▎       | 378kB 8.0MB/s eta 0:00:01\r\u001b[K     |█████████████████████████       | 389kB 8.0MB/s eta 0:00:01\r\u001b[K     |█████████████████████████▋      | 399kB 8.0MB/s eta 0:00:01\r\u001b[K     |██████████████████████████▎     | 409kB 8.0MB/s eta 0:00:01\r\u001b[K     |███████████████████████████     | 419kB 8.0MB/s eta 0:00:01\r\u001b[K     |███████████████████████████▋    | 430kB 8.0MB/s eta 0:00:01\r\u001b[K     |████████████████████████████▏   | 440kB 8.0MB/s eta 0:00:01\r\u001b[K     |████████████████████████████▉   | 450kB 8.0MB/s eta 0:00:01\r\u001b[K     |█████████████████████████████▌  | 460kB 8.0MB/s eta 0:00:01\r\u001b[K     |██████████████████████████████▏ | 471kB 8.0MB/s eta 0:00:01\r\u001b[K     |██████████████████████████████▉ | 481kB 8.0MB/s eta 0:00:01\r\u001b[K     |███████████████████████████████▌| 491kB 8.0MB/s eta 0:00:01\r\u001b[K     |████████████████████████████████| 501kB 8.0MB/s \n",
            "\u001b[?25hRequirement already satisfied: boto3 in /usr/local/lib/python3.6/dist-packages (from transformers) (1.12.18)\n",
            "Collecting tokenizers==0.5.2\n",
            "\u001b[?25l  Downloading https://files.pythonhosted.org/packages/d1/3f/73c881ea4723e43c1e9acf317cf407fab3a278daab3a69c98dcac511c04f/tokenizers-0.5.2-cp36-cp36m-manylinux1_x86_64.whl (3.7MB)\n",
            "\u001b[K     |████████████████████████████████| 3.7MB 66.5MB/s \n",
            "\u001b[?25hCollecting sentencepiece\n",
            "\u001b[?25l  Downloading https://files.pythonhosted.org/packages/74/f4/2d5214cbf13d06e7cb2c20d84115ca25b53ea76fa1f0ade0e3c9749de214/sentencepiece-0.1.85-cp36-cp36m-manylinux1_x86_64.whl (1.0MB)\n",
            "\u001b[K     |████████████████████████████████| 1.0MB 57.9MB/s \n",
            "\u001b[?25hRequirement already satisfied: regex!=2019.12.17 in /usr/local/lib/python3.6/dist-packages (from transformers) (2019.12.20)\n",
            "Requirement already satisfied: filelock in /usr/local/lib/python3.6/dist-packages (from transformers) (3.0.12)\n",
            "Requirement already satisfied: tqdm>=4.27 in /usr/local/lib/python3.6/dist-packages (from transformers) (4.28.1)\n",
            "Collecting sacremoses\n",
            "\u001b[?25l  Downloading https://files.pythonhosted.org/packages/a6/b4/7a41d630547a4afd58143597d5a49e07bfd4c42914d8335b2a5657efc14b/sacremoses-0.0.38.tar.gz (860kB)\n",
            "\u001b[K     |████████████████████████████████| 870kB 34.8MB/s \n",
            "\u001b[?25hRequirement already satisfied: requests in /usr/local/lib/python3.6/dist-packages (from transformers) (2.21.0)\n",
            "Requirement already satisfied: numpy in /usr/local/lib/python3.6/dist-packages (from transformers) (1.18.1)\n",
            "Requirement already satisfied: s3transfer<0.4.0,>=0.3.0 in /usr/local/lib/python3.6/dist-packages (from boto3->transformers) (0.3.3)\n",
            "Requirement already satisfied: botocore<1.16.0,>=1.15.18 in /usr/local/lib/python3.6/dist-packages (from boto3->transformers) (1.15.18)\n",
            "Requirement already satisfied: jmespath<1.0.0,>=0.7.1 in /usr/local/lib/python3.6/dist-packages (from boto3->transformers) (0.9.5)\n",
            "Requirement already satisfied: six in /usr/local/lib/python3.6/dist-packages (from sacremoses->transformers) (1.12.0)\n",
            "Requirement already satisfied: click in /usr/local/lib/python3.6/dist-packages (from sacremoses->transformers) (7.1.1)\n",
            "Requirement already satisfied: joblib in /usr/local/lib/python3.6/dist-packages (from sacremoses->transformers) (0.14.1)\n",
            "Requirement already satisfied: chardet<3.1.0,>=3.0.2 in /usr/local/lib/python3.6/dist-packages (from requests->transformers) (3.0.4)\n",
            "Requirement already satisfied: urllib3<1.25,>=1.21.1 in /usr/local/lib/python3.6/dist-packages (from requests->transformers) (1.24.3)\n",
            "Requirement already satisfied: idna<2.9,>=2.5 in /usr/local/lib/python3.6/dist-packages (from requests->transformers) (2.8)\n",
            "Requirement already satisfied: certifi>=2017.4.17 in /usr/local/lib/python3.6/dist-packages (from requests->transformers) (2019.11.28)\n",
            "Requirement already satisfied: python-dateutil<3.0.0,>=2.1 in /usr/local/lib/python3.6/dist-packages (from botocore<1.16.0,>=1.15.18->boto3->transformers) (2.8.1)\n",
            "Requirement already satisfied: docutils<0.16,>=0.10 in /usr/local/lib/python3.6/dist-packages (from botocore<1.16.0,>=1.15.18->boto3->transformers) (0.15.2)\n",
            "Building wheels for collected packages: sacremoses\n",
            "  Building wheel for sacremoses (setup.py) ... \u001b[?25l\u001b[?25hdone\n",
            "  Created wheel for sacremoses: filename=sacremoses-0.0.38-cp36-none-any.whl size=884628 sha256=abf3c42fbf449993aa3596b342c76b13e2ef46dbb83605a84fea4b40c1e147c7\n",
            "  Stored in directory: /root/.cache/pip/wheels/6d/ec/1a/21b8912e35e02741306f35f66c785f3afe94de754a0eaf1422\n",
            "Successfully built sacremoses\n",
            "Installing collected packages: tokenizers, sentencepiece, sacremoses, transformers\n",
            "Successfully installed sacremoses-0.0.38 sentencepiece-0.1.85 tokenizers-0.5.2 transformers-2.5.1\n"
          ],
          "name": "stdout"
        }
      ]
    },
    {
      "cell_type": "code",
      "metadata": {
        "id": "E3sFbNV4fBBN",
        "colab_type": "code",
        "outputId": "b536b21d-0c57-42ea-cf1c-b558d0c33189",
        "colab": {
          "base_uri": "https://localhost:8080/",
          "height": 1000,
          "referenced_widgets": [
            "b937abc042af4e77b6d7f622e870050f",
            "a7884722764c477d87efd5fe8362cd30",
            "038aedd40b1648b69bbd5319713610bd",
            "9897dbe1ad334fa299e3bff373005cb9",
            "0564ece614144807b8d12979dc97b7ff",
            "b6c67fc7cced42adb447534f2030aa15",
            "5291afdd35884f83b30414d2b5024068",
            "cc18216fe6754ade86d944f6d4139d62",
            "2386a7ecbffe448ba95da5782b386486",
            "3e494060c8594ec38b3b4959fd850cc2",
            "38e71fca5aac4984b136a41218b25137",
            "ff946d61364f4740bd0b3b10891027e2",
            "51dfd9591b4a4ffc912377356c7f9bca",
            "4236c83ee2e54ee5bbd40e26f8413392",
            "e3ff57c907424deab4ab42b1bfcd0d9e",
            "a3fa4193db0c43c6804790ee9b1f51d4",
            "81999ad72c144de2ac64190c36c6c8ce",
            "a6d6cc834109404cbc3dc4503c868831",
            "d90d6f0f4d6a4c80940cb283fabc2e6c",
            "7148c03821364320ba780ad75a8a0e59",
            "c1718e5ad68843dbb92a88146e4594f8",
            "fb91dfba5f5d4d6e9dab1a12315540de",
            "15b2ccd31e0644a6b378b29a935d4e85",
            "8fb27c5c27d045efb46ddba25379f56a"
          ]
        }
      },
      "source": [
        "from tqdm import tqdm as tqdm\n",
        "import model as model_py\n",
        "import dataset_reader\n",
        "import torch\n",
        "\n",
        "device = torch.device(\"cuda\" if torch.cuda.is_available() else \"cpu\")\n",
        "print(device)\n",
        "\n",
        "train_dataloader, val_dataloader = dataset_reader.DatasetReader(train_dev_split= 0.9).dataset_loader()\n",
        "train_count = len(train_dataloader)\n",
        "m = model_py.Model(train_count).to(device)\n",
        "# optim = torch.optim.Adam(params=m.model.parameters(), lr=1e-3)\n",
        "\n",
        "optim = torch.optim.Adam([\n",
        "      {\"params\": m.model.bert.parameters(), \"lr\": 5e-6},\n",
        "      {\"params\": m.model.classifier.parameters(), \"lr\": 1e-3}\n",
        "  ], lr=1e-3)\n",
        "\n",
        "\n",
        "def run_epoch(model, data_loader, optim, training=True):\n",
        "    if training:\n",
        "        model.train()\n",
        "        torch.set_grad_enabled(True)\n",
        "    else:\n",
        "        model.eval()\n",
        "        torch.set_grad_enabled(False)\n",
        "\n",
        "    tk0 = tqdm(data_loader, total=len(data_loader))\n",
        "    running_loss = 0\n",
        "    counter = 0\n",
        "    counter_correct = 0\n",
        "    for i, batch in enumerate(tk0):\n",
        "        if training:\n",
        "            optim.zero_grad()\n",
        "\n",
        "        input_ids = batch[0]['intent_ids']\n",
        "        label_ids = [batch[0]['label_ids']]\n",
        "        outputs = model(input_ids, label_ids)\n",
        "        intent_label_id, loss = outputs[:2]\n",
        "\n",
        "        if intent_label_id.item() == label_ids[0]:\n",
        "            counter_correct += 1\n",
        "        counter += 1\n",
        "        running_loss = running_loss + loss.item()\n",
        "        accuracy = counter_correct / counter\n",
        "        if training:\n",
        "            loss.backward()\n",
        "            optim.step()\n",
        "\n",
        "    return running_loss / counter, accuracy, model\n",
        "\n",
        "print(\"initial validation run ---------\")\n",
        "print(run_epoch(m, val_dataloader, optim, training=False)[:2])\n",
        "\n",
        "val_loss_prev= 1\n",
        "for i in range(20):\n",
        "  print(\"epoch\" + str(i) + \"-\"*20)\n",
        "  print(\"training:\\n\")\n",
        "  train_loss, train_acc, m = run_epoch(m, train_dataloader, optim, training=True)\n",
        "  print(train_loss, train_acc)\n",
        "  print(\"validation:\\n\")\n",
        "  val_loss, val_acc = (run_epoch(m, val_dataloader, optim, training=False)[:2])\n",
        "  print(\"val_loss: \",val_loss, \"val_acc: \", val_acc)\n",
        "  if val_loss < val_loss_prev :\n",
        "    torch.save(m.state_dict(), \"saved_model/model_{}.model\".format(str(i)))\n",
        "    print(\"\\n saved model: model_{}.model\".format(str(i)))\n",
        "    val_loss_prev = val_loss\n",
        "\n",
        "\n",
        "\n"
      ],
      "execution_count": 4,
      "outputs": [
        {
          "output_type": "display_data",
          "data": {
            "text/html": [
              "<p style=\"color: red;\">\n",
              "The default version of TensorFlow in Colab will soon switch to TensorFlow 2.x.<br>\n",
              "We recommend you <a href=\"https://www.tensorflow.org/guide/migrate\" target=\"_blank\">upgrade</a> now \n",
              "or ensure your notebook will continue to use TensorFlow 1.x via the <code>%tensorflow_version 1.x</code> magic:\n",
              "<a href=\"https://colab.research.google.com/notebooks/tensorflow_version.ipynb\" target=\"_blank\">more info</a>.</p>\n"
            ],
            "text/plain": [
              "<IPython.core.display.HTML object>"
            ]
          },
          "metadata": {
            "tags": []
          }
        },
        {
          "output_type": "stream",
          "text": [
            "cuda\n"
          ],
          "name": "stdout"
        },
        {
          "output_type": "display_data",
          "data": {
            "application/vnd.jupyter.widget-view+json": {
              "model_id": "b937abc042af4e77b6d7f622e870050f",
              "version_minor": 0,
              "version_major": 2
            },
            "text/plain": [
              "HBox(children=(IntProgress(value=0, description='Downloading', max=231508, style=ProgressStyle(description_wid…"
            ]
          },
          "metadata": {
            "tags": []
          }
        },
        {
          "output_type": "stream",
          "text": [
            "\n"
          ],
          "name": "stdout"
        },
        {
          "output_type": "display_data",
          "data": {
            "application/vnd.jupyter.widget-view+json": {
              "model_id": "2386a7ecbffe448ba95da5782b386486",
              "version_minor": 0,
              "version_major": 2
            },
            "text/plain": [
              "HBox(children=(IntProgress(value=0, description='Downloading', max=361, style=ProgressStyle(description_width=…"
            ]
          },
          "metadata": {
            "tags": []
          }
        },
        {
          "output_type": "stream",
          "text": [
            "\n"
          ],
          "name": "stdout"
        },
        {
          "output_type": "display_data",
          "data": {
            "application/vnd.jupyter.widget-view+json": {
              "model_id": "81999ad72c144de2ac64190c36c6c8ce",
              "version_minor": 0,
              "version_major": 2
            },
            "text/plain": [
              "HBox(children=(IntProgress(value=0, description='Downloading', max=440473133, style=ProgressStyle(description_…"
            ]
          },
          "metadata": {
            "tags": []
          }
        },
        {
          "output_type": "stream",
          "text": [
            "\n"
          ],
          "name": "stdout"
        },
        {
          "output_type": "stream",
          "text": [
            "\r  0%|          | 0/28 [00:00<?, ?it/s]"
          ],
          "name": "stderr"
        },
        {
          "output_type": "stream",
          "text": [
            "initial validation run ---------\n"
          ],
          "name": "stdout"
        },
        {
          "output_type": "stream",
          "text": [
            "100%|██████████| 28/28 [00:00<00:00, 56.33it/s]\n",
            "  0%|          | 1/243 [00:00<00:29,  8.34it/s]"
          ],
          "name": "stderr"
        },
        {
          "output_type": "stream",
          "text": [
            "(5.489665337971279, 0.0)\n",
            "epoch0--------------------\n",
            "training:\n",
            "\n"
          ],
          "name": "stdout"
        },
        {
          "output_type": "stream",
          "text": [
            "100%|██████████| 243/243 [00:24<00:00,  9.91it/s]\n",
            " 32%|███▏      | 9/28 [00:00<00:00, 85.87it/s]"
          ],
          "name": "stderr"
        },
        {
          "output_type": "stream",
          "text": [
            "3.917888959248861 0.06172839506172839\n",
            "validation:\n",
            "\n"
          ],
          "name": "stdout"
        },
        {
          "output_type": "stream",
          "text": [
            "100%|██████████| 28/28 [00:00<00:00, 98.80it/s]\n",
            "  1%|          | 2/243 [00:00<00:20, 11.87it/s]"
          ],
          "name": "stderr"
        },
        {
          "output_type": "stream",
          "text": [
            "val_loss:  3.1780576961381093 val_acc:  0.07142857142857142\n",
            "epoch1--------------------\n",
            "training:\n",
            "\n"
          ],
          "name": "stdout"
        },
        {
          "output_type": "stream",
          "text": [
            "100%|██████████| 243/243 [00:24<00:00, 10.09it/s]\n",
            " 32%|███▏      | 9/28 [00:00<00:00, 86.62it/s]"
          ],
          "name": "stderr"
        },
        {
          "output_type": "stream",
          "text": [
            "3.11670402195228 0.10699588477366255\n",
            "validation:\n",
            "\n"
          ],
          "name": "stdout"
        },
        {
          "output_type": "stream",
          "text": [
            "100%|██████████| 28/28 [00:00<00:00, 96.03it/s]\n",
            "  1%|          | 2/243 [00:00<00:20, 11.74it/s]"
          ],
          "name": "stderr"
        },
        {
          "output_type": "stream",
          "text": [
            "val_loss:  3.1662817427090237 val_acc:  0.14285714285714285\n",
            "epoch2--------------------\n",
            "training:\n",
            "\n"
          ],
          "name": "stdout"
        },
        {
          "output_type": "stream",
          "text": [
            "100%|██████████| 243/243 [00:24<00:00,  9.78it/s]\n",
            " 25%|██▌       | 7/28 [00:00<00:00, 65.41it/s]"
          ],
          "name": "stderr"
        },
        {
          "output_type": "stream",
          "text": [
            "2.6339214966620927 0.17695473251028807\n",
            "validation:\n",
            "\n"
          ],
          "name": "stdout"
        },
        {
          "output_type": "stream",
          "text": [
            "100%|██████████| 28/28 [00:00<00:00, 80.91it/s]\n",
            "  1%|          | 2/243 [00:00<00:20, 12.03it/s]"
          ],
          "name": "stderr"
        },
        {
          "output_type": "stream",
          "text": [
            "val_loss:  2.3596765867301395 val_acc:  0.21428571428571427\n",
            "epoch3--------------------\n",
            "training:\n",
            "\n"
          ],
          "name": "stdout"
        },
        {
          "output_type": "stream",
          "text": [
            "100%|██████████| 243/243 [00:24<00:00,  9.77it/s]\n",
            " 25%|██▌       | 7/28 [00:00<00:00, 66.36it/s]"
          ],
          "name": "stderr"
        },
        {
          "output_type": "stream",
          "text": [
            "1.9371498263912437 0.39094650205761317\n",
            "validation:\n",
            "\n"
          ],
          "name": "stdout"
        },
        {
          "output_type": "stream",
          "text": [
            "100%|██████████| 28/28 [00:00<00:00, 82.78it/s]\n",
            "  1%|          | 2/243 [00:00<00:20, 11.94it/s]"
          ],
          "name": "stderr"
        },
        {
          "output_type": "stream",
          "text": [
            "val_loss:  1.541269940989358 val_acc:  0.4642857142857143\n",
            "epoch4--------------------\n",
            "training:\n",
            "\n"
          ],
          "name": "stdout"
        },
        {
          "output_type": "stream",
          "text": [
            "100%|██████████| 243/243 [00:24<00:00,  9.91it/s]\n",
            " 25%|██▌       | 7/28 [00:00<00:00, 64.80it/s]"
          ],
          "name": "stderr"
        },
        {
          "output_type": "stream",
          "text": [
            "1.118376350697176 0.6255144032921811\n",
            "validation:\n",
            "\n"
          ],
          "name": "stdout"
        },
        {
          "output_type": "stream",
          "text": [
            "100%|██████████| 28/28 [00:00<00:00, 77.17it/s]\n",
            "  1%|          | 2/243 [00:00<00:20, 11.86it/s]"
          ],
          "name": "stderr"
        },
        {
          "output_type": "stream",
          "text": [
            "val_loss:  1.3164238333702087 val_acc:  0.6071428571428571\n",
            "epoch5--------------------\n",
            "training:\n",
            "\n"
          ],
          "name": "stdout"
        },
        {
          "output_type": "stream",
          "text": [
            "100%|██████████| 243/243 [00:24<00:00,  9.91it/s]\n",
            " 21%|██▏       | 6/28 [00:00<00:00, 59.46it/s]"
          ],
          "name": "stderr"
        },
        {
          "output_type": "stream",
          "text": [
            "0.7064184107407621 0.7366255144032922\n",
            "validation:\n",
            "\n"
          ],
          "name": "stdout"
        },
        {
          "output_type": "stream",
          "text": [
            "100%|██████████| 28/28 [00:00<00:00, 82.87it/s]\n"
          ],
          "name": "stderr"
        },
        {
          "output_type": "stream",
          "text": [
            "val_loss:  0.660537566457476 val_acc:  0.7857142857142857\n"
          ],
          "name": "stdout"
        },
        {
          "output_type": "stream",
          "text": [
            "  1%|          | 2/243 [00:00<00:21, 11.08it/s]"
          ],
          "name": "stderr"
        },
        {
          "output_type": "stream",
          "text": [
            "\n",
            " saved model: model_5.model\n",
            "epoch6--------------------\n",
            "training:\n",
            "\n"
          ],
          "name": "stdout"
        },
        {
          "output_type": "stream",
          "text": [
            "100%|██████████| 243/243 [00:24<00:00,  9.64it/s]\n",
            " 25%|██▌       | 7/28 [00:00<00:00, 64.28it/s]"
          ],
          "name": "stderr"
        },
        {
          "output_type": "stream",
          "text": [
            "0.3056506806440314 0.9382716049382716\n",
            "validation:\n",
            "\n"
          ],
          "name": "stdout"
        },
        {
          "output_type": "stream",
          "text": [
            "100%|██████████| 28/28 [00:00<00:00, 91.39it/s]\n"
          ],
          "name": "stderr"
        },
        {
          "output_type": "stream",
          "text": [
            "val_loss:  0.4332260234015329 val_acc:  0.9285714285714286\n"
          ],
          "name": "stdout"
        },
        {
          "output_type": "stream",
          "text": [
            "  1%|          | 2/243 [00:00<00:22, 10.60it/s]"
          ],
          "name": "stderr"
        },
        {
          "output_type": "stream",
          "text": [
            "\n",
            " saved model: model_6.model\n",
            "epoch7--------------------\n",
            "training:\n",
            "\n"
          ],
          "name": "stdout"
        },
        {
          "output_type": "stream",
          "text": [
            "100%|██████████| 243/243 [00:24<00:00,  9.85it/s]\n",
            " 25%|██▌       | 7/28 [00:00<00:00, 66.53it/s]"
          ],
          "name": "stderr"
        },
        {
          "output_type": "stream",
          "text": [
            "0.13298114140828451 0.9835390946502057\n",
            "validation:\n",
            "\n"
          ],
          "name": "stdout"
        },
        {
          "output_type": "stream",
          "text": [
            "100%|██████████| 28/28 [00:00<00:00, 77.38it/s]\n"
          ],
          "name": "stderr"
        },
        {
          "output_type": "stream",
          "text": [
            "val_loss:  0.2961900063923427 val_acc:  0.9285714285714286\n"
          ],
          "name": "stdout"
        },
        {
          "output_type": "stream",
          "text": [
            "  1%|          | 2/243 [00:00<00:20, 11.76it/s]"
          ],
          "name": "stderr"
        },
        {
          "output_type": "stream",
          "text": [
            "\n",
            " saved model: model_7.model\n",
            "epoch8--------------------\n",
            "training:\n",
            "\n"
          ],
          "name": "stdout"
        },
        {
          "output_type": "stream",
          "text": [
            "100%|██████████| 243/243 [00:24<00:00,  9.77it/s]\n",
            " 32%|███▏      | 9/28 [00:00<00:00, 86.58it/s]"
          ],
          "name": "stderr"
        },
        {
          "output_type": "stream",
          "text": [
            "0.07803776823444131 0.9876543209876543\n",
            "validation:\n",
            "\n"
          ],
          "name": "stdout"
        },
        {
          "output_type": "stream",
          "text": [
            "100%|██████████| 28/28 [00:00<00:00, 89.82it/s]\n",
            "  1%|          | 2/243 [00:00<00:20, 11.51it/s]"
          ],
          "name": "stderr"
        },
        {
          "output_type": "stream",
          "text": [
            "val_loss:  0.3275930711201259 val_acc:  0.8928571428571429\n",
            "epoch9--------------------\n",
            "training:\n",
            "\n"
          ],
          "name": "stdout"
        },
        {
          "output_type": "stream",
          "text": [
            "100%|██████████| 243/243 [00:24<00:00,  9.74it/s]\n",
            " 25%|██▌       | 7/28 [00:00<00:00, 67.78it/s]"
          ],
          "name": "stderr"
        },
        {
          "output_type": "stream",
          "text": [
            "0.041804755175555194 0.9917695473251029\n",
            "validation:\n",
            "\n"
          ],
          "name": "stdout"
        },
        {
          "output_type": "stream",
          "text": [
            "100%|██████████| 28/28 [00:00<00:00, 80.51it/s]\n"
          ],
          "name": "stderr"
        },
        {
          "output_type": "stream",
          "text": [
            "val_loss:  0.28218122891017366 val_acc:  0.8571428571428571\n"
          ],
          "name": "stdout"
        },
        {
          "output_type": "stream",
          "text": [
            "  1%|          | 2/243 [00:00<00:21, 10.98it/s]"
          ],
          "name": "stderr"
        },
        {
          "output_type": "stream",
          "text": [
            "\n",
            " saved model: model_9.model\n",
            "epoch10--------------------\n",
            "training:\n",
            "\n"
          ],
          "name": "stdout"
        },
        {
          "output_type": "stream",
          "text": [
            "100%|██████████| 243/243 [00:24<00:00, 10.09it/s]\n",
            " 29%|██▊       | 8/28 [00:00<00:00, 78.49it/s]"
          ],
          "name": "stderr"
        },
        {
          "output_type": "stream",
          "text": [
            "0.14559449874815136 0.9506172839506173\n",
            "validation:\n",
            "\n"
          ],
          "name": "stdout"
        },
        {
          "output_type": "stream",
          "text": [
            "100%|██████████| 28/28 [00:00<00:00, 92.24it/s]\n",
            "  1%|          | 2/243 [00:00<00:20, 11.64it/s]"
          ],
          "name": "stderr"
        },
        {
          "output_type": "stream",
          "text": [
            "val_loss:  0.5792686939239502 val_acc:  0.8571428571428571\n",
            "epoch11--------------------\n",
            "training:\n",
            "\n"
          ],
          "name": "stdout"
        },
        {
          "output_type": "stream",
          "text": [
            "100%|██████████| 243/243 [00:24<00:00, 10.02it/s]\n",
            " 25%|██▌       | 7/28 [00:00<00:00, 63.59it/s]"
          ],
          "name": "stderr"
        },
        {
          "output_type": "stream",
          "text": [
            "0.08278426613827301 0.9711934156378601\n",
            "validation:\n",
            "\n"
          ],
          "name": "stdout"
        },
        {
          "output_type": "stream",
          "text": [
            "100%|██████████| 28/28 [00:00<00:00, 84.52it/s]\n"
          ],
          "name": "stderr"
        },
        {
          "output_type": "stream",
          "text": [
            "val_loss:  0.24458370889936173 val_acc:  0.9285714285714286\n"
          ],
          "name": "stdout"
        },
        {
          "output_type": "stream",
          "text": [
            "  1%|          | 2/243 [00:00<00:21, 11.45it/s]"
          ],
          "name": "stderr"
        },
        {
          "output_type": "stream",
          "text": [
            "\n",
            " saved model: model_11.model\n",
            "epoch12--------------------\n",
            "training:\n",
            "\n"
          ],
          "name": "stdout"
        },
        {
          "output_type": "stream",
          "text": [
            "100%|██████████| 243/243 [00:25<00:00,  9.72it/s]\n",
            " 32%|███▏      | 9/28 [00:00<00:00, 84.91it/s]"
          ],
          "name": "stderr"
        },
        {
          "output_type": "stream",
          "text": [
            "0.025588363286399057 1.0\n",
            "validation:\n",
            "\n"
          ],
          "name": "stdout"
        },
        {
          "output_type": "stream",
          "text": [
            "100%|██████████| 28/28 [00:00<00:00, 97.84it/s]\n"
          ],
          "name": "stderr"
        },
        {
          "output_type": "stream",
          "text": [
            "val_loss:  0.15538041932242258 val_acc:  0.9642857142857143\n"
          ],
          "name": "stdout"
        },
        {
          "output_type": "stream",
          "text": [
            "  1%|          | 2/243 [00:00<00:20, 11.53it/s]"
          ],
          "name": "stderr"
        },
        {
          "output_type": "stream",
          "text": [
            "\n",
            " saved model: model_12.model\n",
            "epoch13--------------------\n",
            "training:\n",
            "\n"
          ],
          "name": "stdout"
        },
        {
          "output_type": "stream",
          "text": [
            "100%|██████████| 243/243 [00:24<00:00,  9.79it/s]\n",
            " 32%|███▏      | 9/28 [00:00<00:00, 86.58it/s]"
          ],
          "name": "stderr"
        },
        {
          "output_type": "stream",
          "text": [
            "0.007577050369953422 1.0\n",
            "validation:\n",
            "\n"
          ],
          "name": "stdout"
        },
        {
          "output_type": "stream",
          "text": [
            "100%|██████████| 28/28 [00:00<00:00, 100.59it/s]\n",
            "  1%|          | 2/243 [00:00<00:19, 12.25it/s]"
          ],
          "name": "stderr"
        },
        {
          "output_type": "stream",
          "text": [
            "val_loss:  0.18060319764273508 val_acc:  0.9642857142857143\n",
            "epoch14--------------------\n",
            "training:\n",
            "\n"
          ],
          "name": "stdout"
        },
        {
          "output_type": "stream",
          "text": [
            "100%|██████████| 243/243 [00:24<00:00,  9.83it/s]\n",
            " 29%|██▊       | 8/28 [00:00<00:00, 77.02it/s]"
          ],
          "name": "stderr"
        },
        {
          "output_type": "stream",
          "text": [
            "0.007813696998627589 1.0\n",
            "validation:\n",
            "\n"
          ],
          "name": "stdout"
        },
        {
          "output_type": "stream",
          "text": [
            "100%|██████████| 28/28 [00:00<00:00, 85.30it/s]\n"
          ],
          "name": "stderr"
        },
        {
          "output_type": "stream",
          "text": [
            "val_loss:  0.10923102923801967 val_acc:  0.9642857142857143\n"
          ],
          "name": "stdout"
        },
        {
          "output_type": "stream",
          "text": [
            "  1%|          | 2/243 [00:00<00:21, 11.36it/s]"
          ],
          "name": "stderr"
        },
        {
          "output_type": "stream",
          "text": [
            "\n",
            " saved model: model_14.model\n",
            "epoch15--------------------\n",
            "training:\n",
            "\n"
          ],
          "name": "stdout"
        },
        {
          "output_type": "stream",
          "text": [
            "100%|██████████| 243/243 [00:24<00:00,  9.97it/s]\n",
            " 29%|██▊       | 8/28 [00:00<00:00, 76.36it/s]"
          ],
          "name": "stderr"
        },
        {
          "output_type": "stream",
          "text": [
            "0.004880457748601466 1.0\n",
            "validation:\n",
            "\n"
          ],
          "name": "stdout"
        },
        {
          "output_type": "stream",
          "text": [
            "100%|██████████| 28/28 [00:00<00:00, 91.63it/s]\n",
            "  1%|          | 2/243 [00:00<00:19, 12.20it/s]"
          ],
          "name": "stderr"
        },
        {
          "output_type": "stream",
          "text": [
            "val_loss:  0.15693368230547225 val_acc:  0.9642857142857143\n",
            "epoch16--------------------\n",
            "training:\n",
            "\n"
          ],
          "name": "stdout"
        },
        {
          "output_type": "stream",
          "text": [
            "100%|██████████| 243/243 [00:24<00:00,  9.74it/s]\n",
            " 25%|██▌       | 7/28 [00:00<00:00, 64.71it/s]"
          ],
          "name": "stderr"
        },
        {
          "output_type": "stream",
          "text": [
            "0.0035704506768120658 1.0\n",
            "validation:\n",
            "\n"
          ],
          "name": "stdout"
        },
        {
          "output_type": "stream",
          "text": [
            "100%|██████████| 28/28 [00:00<00:00, 80.20it/s]\n",
            "  1%|          | 2/243 [00:00<00:20, 11.98it/s]"
          ],
          "name": "stderr"
        },
        {
          "output_type": "stream",
          "text": [
            "val_loss:  0.138042722429548 val_acc:  0.9642857142857143\n",
            "epoch17--------------------\n",
            "training:\n",
            "\n"
          ],
          "name": "stdout"
        },
        {
          "output_type": "stream",
          "text": [
            "100%|██████████| 243/243 [00:24<00:00,  9.81it/s]\n",
            " 25%|██▌       | 7/28 [00:00<00:00, 65.00it/s]"
          ],
          "name": "stderr"
        },
        {
          "output_type": "stream",
          "text": [
            "0.0024289535396874195 1.0\n",
            "validation:\n",
            "\n"
          ],
          "name": "stdout"
        },
        {
          "output_type": "stream",
          "text": [
            "100%|██████████| 28/28 [00:00<00:00, 82.36it/s]\n",
            "  1%|          | 2/243 [00:00<00:20, 11.49it/s]"
          ],
          "name": "stderr"
        },
        {
          "output_type": "stream",
          "text": [
            "val_loss:  0.168870142527989 val_acc:  0.9642857142857143\n",
            "epoch18--------------------\n",
            "training:\n",
            "\n"
          ],
          "name": "stdout"
        },
        {
          "output_type": "stream",
          "text": [
            "100%|██████████| 243/243 [00:24<00:00,  9.79it/s]\n",
            " 21%|██▏       | 6/28 [00:00<00:00, 57.26it/s]"
          ],
          "name": "stderr"
        },
        {
          "output_type": "stream",
          "text": [
            "0.0021291230441120917 1.0\n",
            "validation:\n",
            "\n"
          ],
          "name": "stdout"
        },
        {
          "output_type": "stream",
          "text": [
            "100%|██████████| 28/28 [00:00<00:00, 79.34it/s]\n",
            "  1%|          | 2/243 [00:00<00:20, 11.72it/s]"
          ],
          "name": "stderr"
        },
        {
          "output_type": "stream",
          "text": [
            "val_loss:  0.1365804672241211 val_acc:  0.9642857142857143\n",
            "epoch19--------------------\n",
            "training:\n",
            "\n"
          ],
          "name": "stdout"
        },
        {
          "output_type": "stream",
          "text": [
            "100%|██████████| 243/243 [00:24<00:00,  9.76it/s]\n",
            " 32%|███▏      | 9/28 [00:00<00:00, 85.31it/s]"
          ],
          "name": "stderr"
        },
        {
          "output_type": "stream",
          "text": [
            "0.0017672526983567227 1.0\n",
            "validation:\n",
            "\n"
          ],
          "name": "stdout"
        },
        {
          "output_type": "stream",
          "text": [
            "100%|██████████| 28/28 [00:00<00:00, 98.74it/s]"
          ],
          "name": "stderr"
        },
        {
          "output_type": "stream",
          "text": [
            "val_loss:  0.14868770326886857 val_acc:  0.9642857142857143\n"
          ],
          "name": "stdout"
        },
        {
          "output_type": "stream",
          "text": [
            "\n"
          ],
          "name": "stderr"
        }
      ]
    },
    {
      "cell_type": "code",
      "metadata": {
        "id": "hUtw4lHMVGs3",
        "colab_type": "code",
        "outputId": "5c324079-382b-4767-9f56-b1e0b05d3a0f",
        "colab": {
          "base_uri": "https://localhost:8080/",
          "height": 90
        }
      },
      "source": [
        "ut = \"For each month in 2017, I want to know how much our sales grew compared to the same month in 2018\"\n",
        "\n",
        "x, y = dataset_reader.DatasetReader(input_utterance=ut).dataset_loader()\n",
        "\n",
        "input_ids = [b[0] for b in x][0]['intent_ids']\n",
        "input_ids = input_ids + [0]*(30-len(input_ids))\n",
        "print(input_ids)\n",
        "label_ids = [0]\n",
        "out = m(input_ids, label_ids)\n",
        "print(out[0].item())\n",
        "print(out[1].item())\n",
        "\n",
        "\n"
      ],
      "execution_count": 8,
      "outputs": [
        {
          "output_type": "stream",
          "text": [
            "[101, 2005, 2169, 3204, 1999, 2418, 1010, 1045, 2215, 2000, 2113, 2129, 2172, 2256, 4341, 3473, 4102, 2000, 1996, 2168, 3204, 1999, 2760, 102, 0, 0, 0, 0, 0, 0]\n",
            "12\n",
            "20.88443374633789\n"
          ],
          "name": "stdout"
        }
      ]
    },
    {
      "cell_type": "code",
      "metadata": {
        "id": "WR8eExEEVSrU",
        "colab_type": "code",
        "colab": {}
      },
      "source": [
        "%mkdir \"saved_model\""
      ],
      "execution_count": 0,
      "outputs": []
    },
    {
      "cell_type": "code",
      "metadata": {
        "id": "2i_k1a7ZvVSt",
        "colab_type": "code",
        "colab": {
          "base_uri": "https://localhost:8080/",
          "height": 70
        },
        "outputId": "7b1a62bb-89cb-4029-ce05-9b038fe2517d"
      },
      "source": [
        "!ls"
      ],
      "execution_count": 5,
      "outputs": [
        {
          "output_type": "stream",
          "text": [
            "bert_classifier.csv\t    dataset_reader.py  saved_model\n",
            "data.csv\t\t    model.py\t       test.py\n",
            "dataset_reader_original.py  __pycache__        train.py\n"
          ],
          "name": "stdout"
        }
      ]
    },
    {
      "cell_type": "code",
      "metadata": {
        "id": "DRh8vg38vXaj",
        "colab_type": "code",
        "colab": {}
      },
      "source": [
        ""
      ],
      "execution_count": 0,
      "outputs": []
    }
  ]
}